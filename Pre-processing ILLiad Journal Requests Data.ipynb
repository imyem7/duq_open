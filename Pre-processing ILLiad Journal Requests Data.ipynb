{
 "cells": [
  {
   "cell_type": "markdown",
   "id": "befce616",
   "metadata": {},
   "source": [
    "### Preprocessing: Text-processing, For-loop, API Requests."
   ]
  },
  {
   "cell_type": "markdown",
   "id": "d8c110b9",
   "metadata": {},
   "source": [
    "### 1. Import Modules\n",
    "\n",
    "* `numpy`: provides support for large, multi-dimensional arrays and matrices, as well as a collection of mathematical functions to operate on these arrays. \n",
    "* `pandas`: a powerful and easy-to-use library for data manipulation and analysis. It provides data structures for efficiently storing and querying large datasets, as well as functions for cleaning, transforming, and merging data. \n",
    "* `datetime`: provides classes for working with dates and times, including date arithmetic, formatting, and parsing. \n",
    "* `warnings`: provides a way to ignore warning messages in Python code. \n",
    "**API:\n",
    "First, we need to import `Journals` from `crossref.restful` module to fetch publication information by ISSN from Crossref. Then, we initialize an instance of Journals class to fetch publication metadata using ISSN We also need to import `json` and `urlopen` modules from `urllib.request` module to fetch publication information by ISBN from Googlebooks."
   ]
  },
  {
   "cell_type": "code",
   "execution_count": 1,
   "id": "543a8dd6",
   "metadata": {},
   "outputs": [],
   "source": [
    "# import basic modules\n",
    "\n",
    "import numpy as np\n",
    "import pandas as pd\n",
    "#import matplotlib.pyplot as plt\n",
    "\n",
    "#import seaborn as sns\n",
    "\n",
    "from datetime import datetime\n",
    "#from time import sleep\n",
    "#from pandas.tseries.offsets import MonthEnd\n",
    "\n",
    "import warnings\n",
    "warnings.filterwarnings('ignore')\n",
    "#import multiprocessing"
   ]
  },
  {
   "cell_type": "code",
   "execution_count": 2,
   "id": "864265d2",
   "metadata": {},
   "outputs": [],
   "source": [
    "# import Crossref journals module\n",
    "from crossref.restful import Journals\n",
    "import json\n",
    "from urllib.request import urlopen"
   ]
  },
  {
   "cell_type": "markdown",
   "id": "636d931e",
   "metadata": {},
   "source": [
    "### 2. Import a File\n",
    "\n",
    "The following code reads in an EXCEL file and selects specific columns to work with. It then filters the resulting DataFrame to only include `Article` requests and prints out some summary information about the DataFrame."
   ]
  },
  {
   "cell_type": "code",
   "execution_count": 3,
   "id": "c694dae5",
   "metadata": {},
   "outputs": [],
   "source": [
    "# Specify the name of the EXCEL file to read in\n",
    "\n",
    "# Prompt user to input their multipass id\n",
    "multipass_id = input(\"Enter your multipass ID: \")\n",
    "\n",
    "input_name = input(\"Enter ILLiad Monthly File Name: `Do not enter .xlsx part`\" )\n",
    "input_file_name = input_name+\".xlsx\"\n",
    "\n",
    "input_file_path = (f\"C:\\\\Users\\\\{multipass_id}\\\\Box\\\\\\Annual Report Procedures\\\\ILLiad Statistics\\\\ill_titles_data\\\\{input_file_name}\")\n",
    "\n",
    "# Read in the EXCEL file and select the columns we need\n",
    "ill_df = pd.read_excel(input_file_path, usecols=[\"Transaction Number\", \"Request Type\", \"Process Type\", \"Photo Journal Title\", \"Photo Journal Year\", \"ISSN\", \"Creation Date\", \"Status\", \"Transaction Status\", \"Reason For Cancellation\", \"Document Type\", \"Department\"])\n",
    "\n",
    "# Filter for only Article requests\n",
    "filter = ill_df[\"Request Type\"].isin([\"Article\"])\n",
    "article = ill_df[filter]"
   ]
  },
  {
   "cell_type": "code",
   "execution_count": 4,
   "id": "e0697bbf",
   "metadata": {},
   "outputs": [
    {
     "name": "stdout",
     "output_type": "stream",
     "text": [
      "<class 'pandas.core.frame.DataFrame'>\n",
      "Int64Index: 754 entries, 1 to 1004\n",
      "Data columns (total 12 columns):\n",
      " #   Column                   Non-Null Count  Dtype         \n",
      "---  ------                   --------------  -----         \n",
      " 0   Transaction Number       754 non-null    int64         \n",
      " 1   Request Type             754 non-null    object        \n",
      " 2   Photo Journal Title      743 non-null    object        \n",
      " 3   Photo Journal Year       748 non-null    object        \n",
      " 4   Transaction Status       754 non-null    object        \n",
      " 5   ISSN                     735 non-null    object        \n",
      " 6   Reason For Cancellation  141 non-null    object        \n",
      " 7   Process Type             754 non-null    object        \n",
      " 8   Document Type            697 non-null    object        \n",
      " 9   Creation Date            754 non-null    datetime64[ns]\n",
      " 10  Status                   754 non-null    object        \n",
      " 11  Department               754 non-null    object        \n",
      "dtypes: datetime64[ns](1), int64(1), object(10)\n",
      "memory usage: 76.6+ KB\n"
     ]
    }
   ],
   "source": [
    "article.info()"
   ]
  },
  {
   "cell_type": "markdown",
   "id": "780cac4d",
   "metadata": {},
   "source": [
    "### 3. Auto-Look up\n",
    "\n",
    "#### 3-1. Set up a New DataFrame\n",
    "We start by creating a Pandas DataFrame to store the information we'll retrieve. The DataFrame has columns for the `transaction number`, `issn`, `title`, and the `original` ISSN or ISBN that was used to search for the article.\n",
    "\n",
    "We then loop through each transaction number in the list of borrowing transactions, and add it to the DataFrame.\n",
    "\n",
    "#### 3-2 String Manipulation \n",
    "For each transaction number and corresponding ISSN in our lists, we first clean the ISSN string to remove any hyphens or spaces. Then, we check the length of the cleaned string to determine whether it's an 8-digit or 13- or 10-digit ISSN.\n",
    "\n",
    "#### 3-3 Extract Data from Crossref and Googlebooks\n",
    "If the cleaned string is 8 digits, we add a hyphen in the appropriate place to make it a valid ISSN. Then, we use the Crossref module to check whether the journal with that ISSN exists. If it does, we extract the first ISSN in the list of ISSNs (sometimes journals have multiple ISSNs), and we use this ISSN to look up the title of the journal in the Crossref database.\n",
    "\n",
    "If the cleaned string is 13 or 10 digits, we assume it's an ISBN (International Standard Book Number) and we use the Googlebooks module to look up the title of the book. We extract the first identifier in the list of industry identifiers (sometimes books have multiple ISBNs), and we use this identifier as the ISSN for our dataframe.\n",
    "\n",
    "#### 3-4 Store data in a DataFrame\n",
    "We then repeat this process for all the transaction numbers and ISSNs in our lists, and we store the results in our dataframe.\n",
    "\n",
    "Finally, we have a DataFrame that contains the transaction number, ISSN, and title of each article."
   ]
  },
  {
   "cell_type": "code",
   "execution_count": 5,
   "id": "2fd0b3ee",
   "metadata": {},
   "outputs": [],
   "source": [
    "# article data\n",
    "# Initialize Crossref and Google Books API\n",
    "journals = Journals()\n",
    "api = \"https://www.googleapis.com/books/v1/volumes?q=isbn:\"\n",
    "\n",
    "# Extract relevant columns from dataframe\n",
    "issn_list = list(article[\"ISSN\"])\n",
    "transaction_list = list(article['Transaction Number'])\n",
    "\n",
    "# Initialize new dataframe\n",
    "new_df = pd.DataFrame(columns=['Transaction Number', 'issn', 'title', 'original'])\n",
    "\n",
    "# Iterate through the transaction list and search for corresponding ISSNs and titles\n",
    "for idx, v in enumerate(transaction_list):\n",
    "    new_df.loc[idx, 'Transaction Number'] = v\n",
    "\n",
    "for idx, x in enumerate(issn_list):\n",
    "    x = str(x)\n",
    "    new_df.loc[idx, 'original'] = x\n",
    "    x_short = x.replace(\"-\", '').replace(\" \", '').strip()\n",
    "    \n",
    "    if len(x_short) == 8:\n",
    "        x_issn = x_short[0:4] + \"-\" + x_short[4:8]\n",
    "        if journals.journal_exists(x_issn):\n",
    "            try:\n",
    "                n_issn = journals.journal([x_issn])['ISSN'][0]\n",
    "                new_df.loc[idx, 'issn'] = n_issn\n",
    "                new_df.loc[idx, 'title'] = journals.journal([n_issn])['title']\n",
    "            except:\n",
    "                pass\n",
    "    elif len(x_short) == 13 or len(x_short) == 10:\n",
    "        try:\n",
    "            resp = urlopen(api + x_short)\n",
    "            book_data = json.load(resp)\n",
    "            volume_info = book_data[\"items\"][0][\"volumeInfo\"]\n",
    "            new_df.loc[idx, 'issn'] = volume_info['industryIdentifiers'][0]['identifier']\n",
    "            new_df.loc[idx, 'title'] = volume_info['title']\n",
    "        except:\n",
    "            pass"
   ]
  },
  {
   "cell_type": "code",
   "execution_count": 6,
   "id": "f035d963",
   "metadata": {},
   "outputs": [
    {
     "name": "stdout",
     "output_type": "stream",
     "text": [
      "New DataFrame Preview:\n"
     ]
    },
    {
     "data": {
      "text/html": [
       "<div>\n",
       "<style scoped>\n",
       "    .dataframe tbody tr th:only-of-type {\n",
       "        vertical-align: middle;\n",
       "    }\n",
       "\n",
       "    .dataframe tbody tr th {\n",
       "        vertical-align: top;\n",
       "    }\n",
       "\n",
       "    .dataframe thead th {\n",
       "        text-align: right;\n",
       "    }\n",
       "</style>\n",
       "<table border=\"1\" class=\"dataframe\">\n",
       "  <thead>\n",
       "    <tr style=\"text-align: right;\">\n",
       "      <th></th>\n",
       "      <th>Transaction Number</th>\n",
       "      <th>issn</th>\n",
       "      <th>title</th>\n",
       "      <th>original</th>\n",
       "    </tr>\n",
       "  </thead>\n",
       "  <tbody>\n",
       "    <tr>\n",
       "      <th>0</th>\n",
       "      <td>456055</td>\n",
       "      <td>NaN</td>\n",
       "      <td>NaN</td>\n",
       "      <td>1075-7732</td>\n",
       "    </tr>\n",
       "    <tr>\n",
       "      <th>1</th>\n",
       "      <td>455945</td>\n",
       "      <td>NaN</td>\n",
       "      <td>NaN</td>\n",
       "      <td>1532-0979</td>\n",
       "    </tr>\n",
       "    <tr>\n",
       "      <th>2</th>\n",
       "      <td>455954</td>\n",
       "      <td>0366-7022</td>\n",
       "      <td>Chemistry Letters</td>\n",
       "      <td>0366-7022</td>\n",
       "    </tr>\n",
       "    <tr>\n",
       "      <th>3</th>\n",
       "      <td>455973</td>\n",
       "      <td>1465-9891</td>\n",
       "      <td>Journal of Substance Use</td>\n",
       "      <td>1465-9891</td>\n",
       "    </tr>\n",
       "    <tr>\n",
       "      <th>4</th>\n",
       "      <td>455972</td>\n",
       "      <td>0734-7324</td>\n",
       "      <td>Alcoholism Treatment Quarterly</td>\n",
       "      <td>0734-7324</td>\n",
       "    </tr>\n",
       "    <tr>\n",
       "      <th>...</th>\n",
       "      <td>...</td>\n",
       "      <td>...</td>\n",
       "      <td>...</td>\n",
       "      <td>...</td>\n",
       "    </tr>\n",
       "    <tr>\n",
       "      <th>749</th>\n",
       "      <td>456755</td>\n",
       "      <td>1060-3743</td>\n",
       "      <td>Journal of Second Language Writing</td>\n",
       "      <td>1060-3743</td>\n",
       "    </tr>\n",
       "    <tr>\n",
       "      <th>750</th>\n",
       "      <td>456775</td>\n",
       "      <td>0305-4179</td>\n",
       "      <td>Burns</td>\n",
       "      <td>0305-4179</td>\n",
       "    </tr>\n",
       "    <tr>\n",
       "      <th>751</th>\n",
       "      <td>456370</td>\n",
       "      <td>NaN</td>\n",
       "      <td>NaN</td>\n",
       "      <td>0003-9780</td>\n",
       "    </tr>\n",
       "    <tr>\n",
       "      <th>752</th>\n",
       "      <td>456761</td>\n",
       "      <td>0085-4530</td>\n",
       "      <td>Der Orthopäde</td>\n",
       "      <td>0085-4530</td>\n",
       "    </tr>\n",
       "    <tr>\n",
       "      <th>753</th>\n",
       "      <td>456435</td>\n",
       "      <td>0031-4005</td>\n",
       "      <td>PEDIATRICS</td>\n",
       "      <td>0031-4005</td>\n",
       "    </tr>\n",
       "  </tbody>\n",
       "</table>\n",
       "<p>754 rows × 4 columns</p>\n",
       "</div>"
      ],
      "text/plain": [
       "    Transaction Number       issn                               title  \\\n",
       "0               456055        NaN                                 NaN   \n",
       "1               455945        NaN                                 NaN   \n",
       "2               455954  0366-7022                   Chemistry Letters   \n",
       "3               455973  1465-9891            Journal of Substance Use   \n",
       "4               455972  0734-7324      Alcoholism Treatment Quarterly   \n",
       "..                 ...        ...                                 ...   \n",
       "749             456755  1060-3743  Journal of Second Language Writing   \n",
       "750             456775  0305-4179                               Burns   \n",
       "751             456370        NaN                                 NaN   \n",
       "752             456761  0085-4530                       Der Orthopäde   \n",
       "753             456435  0031-4005                          PEDIATRICS   \n",
       "\n",
       "      original  \n",
       "0    1075-7732  \n",
       "1    1532-0979  \n",
       "2    0366-7022  \n",
       "3    1465-9891  \n",
       "4    0734-7324  \n",
       "..         ...  \n",
       "749  1060-3743  \n",
       "750  0305-4179  \n",
       "751  0003-9780  \n",
       "752  0085-4530  \n",
       "753  0031-4005  \n",
       "\n",
       "[754 rows x 4 columns]"
      ]
     },
     "execution_count": 6,
     "metadata": {},
     "output_type": "execute_result"
    }
   ],
   "source": [
    "print(\"New DataFrame Preview:\")\n",
    "new_df"
   ]
  },
  {
   "cell_type": "markdown",
   "id": "46d04738",
   "metadata": {},
   "source": [
    "### 4.  Check Outputs\n",
    "This code creates the new dataframes directly from `new_df` and uses `downcast='integer'` when converting the Transaction Number column to numeric. It also uses `info()` to print out the information."
   ]
  },
  {
   "cell_type": "code",
   "execution_count": 7,
   "id": "72e858f9",
   "metadata": {},
   "outputs": [
    {
     "name": "stdout",
     "output_type": "stream",
     "text": [
      "issn_title_lookup info\n",
      "---------------------------------------------------------------\n",
      "<class 'pandas.core.frame.DataFrame'>\n",
      "Int64Index: 754 entries, 0 to 753\n",
      "Data columns (total 3 columns):\n",
      " #   Column              Non-Null Count  Dtype \n",
      "---  ------              --------------  ----- \n",
      " 0   Transaction Number  754 non-null    int32 \n",
      " 1   issn                575 non-null    object\n",
      " 2   title               575 non-null    object\n",
      "dtypes: int32(1), object(2)\n",
      "memory usage: 36.8+ KB\n",
      "===============================================================\n"
     ]
    }
   ],
   "source": [
    "# Borrowing data Lookup Output\n",
    "\n",
    "issn_title_lookup = pd.DataFrame(new_df, columns=['Transaction Number', 'issn', 'title'])\n",
    "issn_title_lookup['Transaction Number'] = pd.to_numeric(issn_title_lookup['Transaction Number'], downcast='integer')\n",
    "issn_title_lookup.columns = ['Transaction Number', 'issn', 'title']\n",
    "print(f\"issn_title_lookup info\")\n",
    "print('---------------------------------------------------------------')\n",
    "issn_title_lookup.info()\n",
    "\n",
    "print('===============================================================')\n"
   ]
  },
  {
   "cell_type": "markdown",
   "id": "fb051b44",
   "metadata": {},
   "source": [
    "### 5. Update Data\n",
    "This code defines a function that merges the data and replaces the columns."
   ]
  },
  {
   "cell_type": "code",
   "execution_count": 8,
   "id": "b392a755",
   "metadata": {},
   "outputs": [],
   "source": [
    "# Define a function to merge data and replace columns\n",
    "def merge_data(df, lookup_df):\n",
    "    # Merge data with issn_title_lookup data\n",
    "    df_with_metadata = pd.merge(df, lookup_df[['Transaction Number', 'issn', 'title']], how='left', on='Transaction Number')\n",
    "\n",
    "    # Replace the \"ISSN\" column in df with the corresponding values from issn_title_lookup where available\n",
    "    df_with_metadata.loc[lookup_df['issn'].notnull(), 'ISSN'] = lookup_df.loc[lookup_df['issn'].notnull(), 'issn']\n",
    "\n",
    "    # Replace the \"Photo Journal Title\" column in df with the corresponding values from issn_title_lookup where available\n",
    "    df_with_metadata.loc[lookup_df['title'].notnull(), 'Photo Journal Title'] = lookup_df.loc[lookup_df['title'].notnull(), 'title']\n",
    "\n",
    "    # Convert \"Creation Date\" to datetime and extract \"year\"\n",
    "    df_with_metadata['Creation Date'] = pd.to_datetime(df_with_metadata['Creation Date']).dt.strftime('%Y-%m-%d')\n",
    "    df_with_metadata['year'] = pd.DatetimeIndex(df_with_metadata['Creation Date']).year\n",
    "\n",
    "    # Drop the 'issn' and 'TITLE' columns\n",
    "    df_with_metadata.drop(['issn', 'title'], axis=1, inplace=True)\n",
    "    \n",
    "    return df_with_metadata\n",
    "\n",
    "# Merge borrowing data with issn_title_lookup data\n",
    "article_with_publication_metadata = merge_data(article, issn_title_lookup)\n",
    "\n"
   ]
  },
  {
   "cell_type": "code",
   "execution_count": 9,
   "id": "8c4b3215",
   "metadata": {},
   "outputs": [
    {
     "name": "stdout",
     "output_type": "stream",
     "text": [
      "<class 'pandas.core.frame.DataFrame'>\n",
      "Int64Index: 754 entries, 0 to 753\n",
      "Data columns (total 13 columns):\n",
      " #   Column                   Non-Null Count  Dtype \n",
      "---  ------                   --------------  ----- \n",
      " 0   Transaction Number       754 non-null    int64 \n",
      " 1   Request Type             754 non-null    object\n",
      " 2   Photo Journal Title      743 non-null    object\n",
      " 3   Photo Journal Year       748 non-null    object\n",
      " 4   Transaction Status       754 non-null    object\n",
      " 5   ISSN                     735 non-null    object\n",
      " 6   Reason For Cancellation  141 non-null    object\n",
      " 7   Process Type             754 non-null    object\n",
      " 8   Document Type            697 non-null    object\n",
      " 9   Creation Date            754 non-null    object\n",
      " 10  Status                   754 non-null    object\n",
      " 11  Department               754 non-null    object\n",
      " 12  year                     754 non-null    int64 \n",
      "dtypes: int64(2), object(11)\n",
      "memory usage: 82.5+ KB\n"
     ]
    }
   ],
   "source": [
    "article_with_publication_metadata.info()"
   ]
  },
  {
   "cell_type": "markdown",
   "id": "30b9e5b8",
   "metadata": {},
   "source": [
    "### 6. Impact\n",
    "\n",
    "By leveraging API data from Crossref and Google Books, we were able to significantly improve the accuracy of our data-driven decision making process. Our initial dataset contained a total of ### inputs, with ### unique titles that had been manually entered by patrons. However, due to variations in capitalization, punctuation, and spacing, the format of the titles was not consistent, which made it difficult to analyze the data effectively.\n",
    "\n",
    "Through our search using API data, we were able to standardize the formatting of the titles and correct any discrepancies in ISSN or ISBN numbers. We replaced the \"ISSN\" and \"Photo Journal Title\" columns (from borrowing data) with new information (from issn_title_lookup data), but only when the issn_title_lookup had non-null data for these columns. In cases where the issn_title_lookup did not have data for these columns, we kept the original data from borrowing to avoid data loss.\n",
    "\n",
    "As a result of this process, the number of unique titles increased to ### out of a total of ### inputs, with the data loss minimized due to the replacement of standardized ISSN and title information with patron-entered data. This represents a significant improvement in the accuracy and reliability of our data.\n",
    "\n",
    "Although some journals were not available through the Crossref or Google Books database, we believe that it was still important to validate and standardize the data that we did have in order to ensure that our data-driven decision making process was as accurate and effective as possible."
   ]
  },
  {
   "cell_type": "code",
   "execution_count": 10,
   "id": "cc45ea44",
   "metadata": {},
   "outputs": [
    {
     "name": "stdout",
     "output_type": "stream",
     "text": [
      "743\n",
      "587\n"
     ]
    },
    {
     "data": {
      "image/png": "[encoded data removed]",
      "text/plain": [
       "<Figure size 432x288 with 1 Axes>"
      ]
     },
     "metadata": {},
     "output_type": "display_data"
    }
   ],
   "source": [
    "# Proportion of Titles Changed\n",
    "import matplotlib.pyplot as plt\n",
    "# Define the data before and after standardization\n",
    "total = article['Photo Journal Title'].count()\n",
    "\n",
    "before_set = set(article['Photo Journal Title'])\n",
    "after_set = set(article_with_publication_metadata['Photo Journal Title'])\n",
    "counter = 0 #initialize counter\n",
    "for b, a in zip(before_set, after_set):\n",
    "    if b != a:\n",
    "        counter +=1\n",
    "num_changes = counter    \n",
    "\n",
    "values = [total, num_changes]\n",
    "labels = ['Original', 'Changed']\n",
    "print(total)\n",
    "print(num_changes)\n",
    "\n",
    "plt.pie(values, labels=labels, autopct='%1.1f%%')\n",
    "plt.title('Proportion of Titles Changed')\n",
    "plt.show()"
   ]
  },
  {
   "cell_type": "markdown",
   "id": "93dea060",
   "metadata": {},
   "source": [
    "### 7. Save \n",
    "\n",
    "This code block saves the final results of our analysis to an Excel file. First, it creates a pd.ExcelWriter object called datatoexcel with the specified file path, which is where we want to save the data. Next, it uses the to_excel function to write the contents of the borrowing(/ lending)_with_publication_metadata DataFrame to the datatoexcel Excel file. We pass index=False to exclude the DataFrame index from being written to the file and encoding='utf-8-sig' to ensure that non-ASCII characters are properly encoded. Finally, we call datatoexcel.save() to save the file to disk.\n",
    "\n",
    "By running this code, we can export our data in a format that can be easily shared with others or imported into other programs for further analysis."
   ]
  },
  {
   "cell_type": "code",
   "execution_count": 11,
   "id": "de33aa93",
   "metadata": {},
   "outputs": [
    {
     "name": "stdout",
     "output_type": "stream",
     "text": [
      "<class 'pandas.core.frame.DataFrame'>\n",
      "Int64Index: 408 entries, 0 to 753\n",
      "Data columns (total 13 columns):\n",
      " #   Column                   Non-Null Count  Dtype \n",
      "---  ------                   --------------  ----- \n",
      " 0   Transaction Number       408 non-null    int64 \n",
      " 1   Request Type             408 non-null    object\n",
      " 2   Photo Journal Title      397 non-null    object\n",
      " 3   Photo Journal Year       405 non-null    object\n",
      " 4   Transaction Status       408 non-null    object\n",
      " 5   ISSN                     397 non-null    object\n",
      " 6   Reason For Cancellation  16 non-null     object\n",
      " 7   Process Type             408 non-null    object\n",
      " 8   Document Type            408 non-null    object\n",
      " 9   Creation Date            408 non-null    object\n",
      " 10  Status                   408 non-null    object\n",
      " 11  Department               408 non-null    object\n",
      " 12  year                     408 non-null    int64 \n",
      "dtypes: int64(2), object(11)\n",
      "memory usage: 44.6+ KB\n",
      "<class 'pandas.core.frame.DataFrame'>\n",
      "Int64Index: 346 entries, 1 to 752\n",
      "Data columns (total 13 columns):\n",
      " #   Column                   Non-Null Count  Dtype \n",
      "---  ------                   --------------  ----- \n",
      " 0   Transaction Number       346 non-null    int64 \n",
      " 1   Request Type             346 non-null    object\n",
      " 2   Photo Journal Title      346 non-null    object\n",
      " 3   Photo Journal Year       343 non-null    object\n",
      " 4   Transaction Status       346 non-null    object\n",
      " 5   ISSN                     338 non-null    object\n",
      " 6   Reason For Cancellation  125 non-null    object\n",
      " 7   Process Type             346 non-null    object\n",
      " 8   Document Type            289 non-null    object\n",
      " 9   Creation Date            346 non-null    object\n",
      " 10  Status                   346 non-null    object\n",
      " 11  Department               346 non-null    object\n",
      " 12  year                     346 non-null    int64 \n",
      "dtypes: int64(2), object(11)\n",
      "memory usage: 37.8+ KB\n"
     ]
    }
   ],
   "source": [
    "# Filter for Borrowing and Lending requests\n",
    "borrowing = article_with_publication_metadata[article_with_publication_metadata[\"Process Type\"].isin([\"Borrowing\"])]\n",
    "lending = article_with_publication_metadata[article_with_publication_metadata[\"Process Type\"].isin([\"Lending\"])]\n",
    "\n",
    "# Print out summary info for the borrowing and lending DataFrames\n",
    "borrowing.info()\n",
    "lending.info()"
   ]
  },
  {
   "cell_type": "code",
   "execution_count": 12,
   "id": "68d5a25f",
   "metadata": {},
   "outputs": [
    {
     "name": "stdout",
     "output_type": "stream",
     "text": [
      "Saved\n"
     ]
    }
   ],
   "source": [
    "# Prompt user to input their multipass id\n",
    "multipass_id = input(\"Enter your multipass ID: \")\n",
    "\n",
    "# Define the file names and dataframes\n",
    "\n",
    "file_names = []\n",
    "borrowing.name = 'borrowing'\n",
    "lending.name = 'lending'\n",
    "data_frames = [borrowing, lending]\n",
    "\n",
    "#Loop through the data frames and ask for the file name\n",
    "\n",
    "for data_frame in data_frames:\n",
    "    save_name=  input(f\"Enter the file name for {data_frame.name}: Follow the naming convention `borrowing_YYYY_mm_dd.xlsx` or `lending_YYYY_mm_dd.xlsx`\")\n",
    "    file_names.append(save_name)\n",
    "\n",
    "# Loop through the file names and data frames\n",
    "\n",
    "for file_name, data_frame in zip(file_names, data_frames):\n",
    "    # Create the Excel writer\n",
    "    datatoexcel = pd.ExcelWriter(f\"C:\\\\Users\\\\{multipass_id}\\\\Box\\\\Annual Report Procedures\\\\ILLiad Statistics\\\\ill_titles_powerbi\\\\{file_name}\")\n",
    "\n",
    "    # Write the data frame to the Excel file\n",
    "    data_frame.to_excel(datatoexcel, index=False, encoding='utf-8-sig')\n",
    "    # Save the Excel file\n",
    "    datatoexcel.save()\n",
    "    \n",
    "print(\"Saved\")"
   ]
  }
 ],
 "metadata": {
  "kernelspec": {
   "display_name": "Python 3 (ipykernel)",
   "language": "python",
   "name": "python3"
  },
  "language_info": {
   "codemirror_mode": {
    "name": "ipython",
    "version": 3
   },
   "file_extension": ".py",
   "mimetype": "text/x-python",
   "name": "python",
   "nbconvert_exporter": "python",
   "pygments_lexer": "ipython3",
   "version": "3.8.13"
  }
 },
 "nbformat": 4,
 "nbformat_minor": 5
}
